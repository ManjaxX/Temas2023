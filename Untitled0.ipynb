{
  "nbformat": 4,
  "nbformat_minor": 0,
  "metadata": {
    "colab": {
      "provenance": [],
      "authorship_tag": "ABX9TyPY+rBg7LK/iSXc0ydNr+rH",
      "include_colab_link": true
    },
    "kernelspec": {
      "name": "python3",
      "display_name": "Python 3"
    },
    "language_info": {
      "name": "python"
    }
  },
  "cells": [
    {
      "cell_type": "markdown",
      "metadata": {
        "id": "view-in-github",
        "colab_type": "text"
      },
      "source": [
        "<a href=\"https://colab.research.google.com/github/ManjaxX/Temas2023/blob/main/Untitled0.ipynb\" target=\"_parent\"><img src=\"https://colab.research.google.com/assets/colab-badge.svg\" alt=\"Open In Colab\"/></a>"
      ]
    },
    {
      "cell_type": "code",
      "source": [
        "import random"
      ],
      "metadata": {
        "id": "4utwVpBhYHcN"
      },
      "execution_count": null,
      "outputs": []
    },
    {
      "cell_type": "code",
      "source": [
        "def bolado():\n",
        "  pos = 0\n",
        "  for i in range(2):\n",
        "    x = random.random()\n",
        "    if x > 0.5:\n",
        "      pos += 1\n",
        "  return pos"
      ],
      "metadata": {
        "id": "Dwt8gf3ljSA2"
      },
      "execution_count": null,
      "outputs": []
    },
    {
      "cell_type": "code",
      "execution_count": null,
      "metadata": {
        "id": "RQ8yKY9kNmM-"
      },
      "outputs": [],
      "source": [
        "def evento(pos,A,R,V,N):\n",
        "  pos += bolado()\n",
        "  if pos == 0:\n",
        "    A += 1\n",
        "  if pos == 1:\n",
        "    R += 1\n",
        "  if pos == 2:\n",
        "    V += 1\n",
        "  if pos == 3:\n",
        "    N += 1\n",
        "  if pos == 4:\n",
        "    A += 1\n",
        "    pos = 0\n",
        "  if pos == 5:\n",
        "    R += 1\n",
        "    pos = 1\n",
        "  Tablero = [A,R,V,N]\n",
        "  return pos, A, R, V, N"
      ]
    },
    {
      "cell_type": "code",
      "source": [
        "def simulacion(n):\n",
        "  pos = 0\n",
        "  A = 0\n",
        "  R = 0\n",
        "  V = 0\n",
        "  N = 0\n",
        "  ev = [0,0,0,0]\n",
        "  for i in range(n):\n",
        "    ev = evento(pos,A,R,V,N)\n",
        "    pos = ev[0]\n",
        "    A = ev[1]\n",
        "    R = ev[2]\n",
        "    V = ev[3]\n",
        "    N = ev[4]\n",
        "  return A/n,R/n,V/n,N/n"
      ],
      "metadata": {
        "id": "Z9Cw4s3XNm8F"
      },
      "execution_count": null,
      "outputs": []
    },
    {
      "cell_type": "code",
      "source": [
        "simulacion(1000)"
      ],
      "metadata": {
        "colab": {
          "base_uri": "https://localhost:8080/"
        },
        "id": "7l60T-wbwCQW",
        "outputId": "09a1da14-908d-484a-8fee-cd79e8def413"
      },
      "execution_count": null,
      "outputs": [
        {
          "output_type": "execute_result",
          "data": {
            "text/plain": [
              "(0.239, 0.253, 0.254, 0.254)"
            ]
          },
          "metadata": {},
          "execution_count": 209
        }
      ]
    }
  ]
}