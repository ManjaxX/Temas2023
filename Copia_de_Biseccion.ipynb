{
  "cells": [
    {
      "cell_type": "markdown",
      "metadata": {
        "id": "view-in-github",
        "colab_type": "text"
      },
      "source": [
        "<a href=\"https://colab.research.google.com/github/ManjaxX/Temas2023/blob/main/Copia_de_Biseccion.ipynb\" target=\"_parent\"><img src=\"https://colab.research.google.com/assets/colab-badge.svg\" alt=\"Open In Colab\"/></a>"
      ]
    },
    {
      "cell_type": "markdown",
      "id": "3154e14b",
      "metadata": {
        "id": "3154e14b"
      },
      "source": [
        "# Método de bisección"
      ]
    },
    {
      "cell_type": "code",
      "execution_count": null,
      "id": "9d5e2287",
      "metadata": {
        "id": "9d5e2287"
      },
      "outputs": [],
      "source": [
        "from math import *\n",
        "import numpy as np\n",
        "import matplotlib . pyplot as plt"
      ]
    },
    {
      "cell_type": "code",
      "execution_count": null,
      "id": "db980446",
      "metadata": {
        "id": "db980446"
      },
      "outputs": [],
      "source": [
        "def funcion1(x):\n",
        "    return (30-x**(-1))*e**(-x)+x**(-1)-26"
      ]
    },
    {
      "cell_type": "code",
      "source": [
        "print(funcion1(0.001))\n",
        "print(funcion1(1))"
      ],
      "metadata": {
        "id": "EdRwJrTjUqjB",
        "outputId": "88db6448-9f15-48bd-eb69-d1aeddb5f84e",
        "colab": {
          "base_uri": "https://localhost:8080/"
        }
      },
      "id": "EdRwJrTjUqjB",
      "execution_count": null,
      "outputs": [
        {
          "output_type": "stream",
          "name": "stdout",
          "text": [
            "4.969515161626191\n",
            "-14.331496206028172\n"
          ]
        }
      ]
    },
    {
      "cell_type": "code",
      "execution_count": null,
      "id": "679a51af",
      "metadata": {
        "id": "679a51af"
      },
      "outputs": [],
      "source": [
        "# Ingreso datos de entrada para los diferentes métodos a trabajar\n",
        "a = 0.001\n",
        "b = 1\n",
        "\n",
        "# guarda valores iniciales\n",
        "a0 = a\n",
        "b0 = b\n",
        "\n",
        "#guarda valores iniciales del error y del número de iteraciones\n",
        "tol = 0.000001 #float(input(\"Ingrese el valor de la tolerancia: \"))\n",
        "nmax = 100 #float(input(\"Ingrese el número máximo de iteraciones: \"))\n",
        "error = 100\n",
        "niter = 0"
      ]
    },
    {
      "cell_type": "code",
      "execution_count": null,
      "id": "6b4c08a0",
      "metadata": {
        "id": "6b4c08a0",
        "outputId": "580d806c-2424-43eb-d833-8449bb520b8a",
        "colab": {
          "base_uri": "https://localhost:8080/"
        }
      },
      "outputs": [
        {
          "output_type": "stream",
          "name": "stdout",
          "text": [
            "# iter\t\t a \t\t f(a) \t\t b \t\t f(b) \t\t m \t\t f(m) \t\t error\n",
            "0 \t\t 0.0010 \t 4.9695 \t 1.0000 \t -14.3315 \t 0.5005 \t -7.0264 \t 100.0000\n",
            "1 \t\t 0.001000 \t 4.969515 \t 0.500500 \t -7.026418 \t 0.250750 \t -1.769014 \t 0.499500\n",
            "2 \t\t 0.001000 \t 4.969515 \t 0.250750 \t -1.769014 \t 0.125875 \t 1.391374 \t 0.249750\n",
            "3 \t\t 0.125875 \t 1.391374 \t 0.250750 \t -1.769014 \t 0.188312 \t -0.237840 \t 0.124875\n",
            "4 \t\t 0.125875 \t 1.391374 \t 0.188312 \t -0.237840 \t 0.157094 \t 0.564128 \t 0.062438\n",
            "5 \t\t 0.157094 \t 0.564128 \t 0.188312 \t -0.237840 \t 0.172703 \t 0.160033 \t 0.031219\n",
            "6 \t\t 0.172703 \t 0.160033 \t 0.188312 \t -0.237840 \t 0.180508 \t -0.039675 \t 0.015609\n",
            "7 \t\t 0.172703 \t 0.160033 \t 0.180508 \t -0.039675 \t 0.176605 \t 0.059985 \t 0.007805\n",
            "8 \t\t 0.176605 \t 0.059985 \t 0.180508 \t -0.039675 \t 0.178557 \t 0.010107 \t 0.003902\n",
            "9 \t\t 0.178557 \t 0.010107 \t 0.180508 \t -0.039675 \t 0.179532 \t -0.014796 \t 0.001951\n",
            "10 \t\t 0.178557 \t 0.010107 \t 0.179532 \t -0.014796 \t 0.179044 \t -0.002348 \t 0.000976\n",
            "11 \t\t 0.178557 \t 0.010107 \t 0.179044 \t -0.002348 \t 0.178801 \t 0.003879 \t 0.000488\n",
            "12 \t\t 0.178801 \t 0.003879 \t 0.179044 \t -0.002348 \t 0.178922 \t 0.000765 \t 0.000244\n",
            "13 \t\t 0.178922 \t 0.000765 \t 0.179044 \t -0.002348 \t 0.178983 \t -0.000791 \t 0.000122\n",
            "14 \t\t 0.178922 \t 0.000765 \t 0.178983 \t -0.000791 \t 0.178953 \t -0.000013 \t 0.000061\n",
            "15 \t\t 0.178922 \t 0.000765 \t 0.178953 \t -0.000013 \t 0.178938 \t 0.000376 \t 0.000030\n",
            "16 \t\t 0.178938 \t 0.000376 \t 0.178953 \t -0.000013 \t 0.178945 \t 0.000182 \t 0.000015\n",
            "17 \t\t 0.178945 \t 0.000182 \t 0.178953 \t -0.000013 \t 0.178949 \t 0.000084 \t 0.000008\n",
            "18 \t\t 0.178949 \t 0.000084 \t 0.178953 \t -0.000013 \t 0.178951 \t 0.000036 \t 0.000004\n",
            "19 \t\t 0.178951 \t 0.000036 \t 0.178953 \t -0.000013 \t 0.178952 \t 0.000011 \t 0.000002\n",
            "20 \t\t 0.178952 \t 0.000011 \t 0.178953 \t -0.000013 \t 0.178952 \t -0.000001 \t 0.000001\n",
            "La raíz de la función dada en el intervalo [0.0010,1.0000] es 0.1789525\n"
          ]
        }
      ],
      "source": [
        "# Método de Bisección\n",
        "\n",
        "# evaluo primer valor medio\n",
        "m = a + (b - a)/2\n",
        "\n",
        "#Evaluacion de la función en los puntos a, b y m\n",
        "fa = funcion1(a)\n",
        "fb = funcion1(b)\n",
        "fm = funcion1(m)\n",
        "\n",
        "print(\"# iter\\t\\t a \\t\\t f(a) \\t\\t b \\t\\t f(b) \\t\\t m \\t\\t f(m) \\t\\t error\")\n",
        "print(\"{0} \\t\\t {1:6.4f} \\t {2:6.4f} \\t {3:6.4f} \\t {4:6.4f} \\t {5:6.4f} \\t {6:6.4f} \\t {7:6.4f}\".format(niter, a0, fa, b0, fb, m, fm, error ))\n",
        "\n",
        "# ciclo iterativo\n",
        "while error > tol and niter < nmax:\n",
        "    m = a + (b - a) / 2\n",
        "    if np.sign(fa) == np.sign(fm):\n",
        "        a = m\n",
        "        fa = funcion1(a)\n",
        "    else:\n",
        "        b = m\n",
        "        fb = funcion1(b)\n",
        "\n",
        "    m = a + (b - a)/2\n",
        "    fm = funcion1(m)\n",
        "    error = abs(b - a)\n",
        "    niter += 1\n",
        "    print(\"{0} \\t\\t {1:6.6f} \\t {2:6.6f} \\t {3:6.6f} \\t {4:6.6f} \\t {5:6.6f} \\t {6:6.6f} \\t {7:6.6f}\".format(niter, a, fa, b, fb, m, fm, error ))\n",
        "\n",
        "print(\"La raíz de la función dada en el intervalo [{0:6.4f},{1:6.4f}] es {2:6.7f}\".format(a0,b0,m))"
      ]
    }
  ],
  "metadata": {
    "kernelspec": {
      "display_name": "Python 3 (ipykernel)",
      "language": "python",
      "name": "python3"
    },
    "language_info": {
      "codemirror_mode": {
        "name": "ipython",
        "version": 3
      },
      "file_extension": ".py",
      "mimetype": "text/x-python",
      "name": "python",
      "nbconvert_exporter": "python",
      "pygments_lexer": "ipython3",
      "version": "3.7.3"
    },
    "colab": {
      "provenance": [],
      "include_colab_link": true
    }
  },
  "nbformat": 4,
  "nbformat_minor": 5
}