{
  "nbformat": 4,
  "nbformat_minor": 0,
  "metadata": {
    "colab": {
      "provenance": [],
      "authorship_tag": "ABX9TyOyPEMTaLdm5tuzPVdpKpda",
      "include_colab_link": true
    },
    "kernelspec": {
      "name": "python3",
      "display_name": "Python 3"
    },
    "language_info": {
      "name": "python"
    }
  },
  "cells": [
    {
      "cell_type": "markdown",
      "metadata": {
        "id": "view-in-github",
        "colab_type": "text"
      },
      "source": [
        "<a href=\"https://colab.research.google.com/github/ManjaxX/Temas2023/blob/main/Lineas_de_espera.ipynb\" target=\"_parent\"><img src=\"https://colab.research.google.com/assets/colab-badge.svg\" alt=\"Open In Colab\"/></a>"
      ]
    },
    {
      "cell_type": "markdown",
      "source": [
        "Una sala de espera tiene una capacidad para 3 personas. Las personas arriban al sistema de acuerdo a una tasa de 8 por hora con distribución Poisson y son atendidas por una recepcionista en 10 minutos con distribución exponencial. Si alguien llega y el sistema está lleno, se retira sin entrar."
      ],
      "metadata": {
        "id": "JUHEIsX3_xjx"
      }
    },
    {
      "cell_type": "markdown",
      "source": [],
      "metadata": {
        "id": "rmxZEp45uqpu"
      }
    },
    {
      "cell_type": "markdown",
      "source": [
        "Las probabilidades de un paso son:\n",
        "\\begin{bmatrix}\n",
        "  1-8\\Delta t & 8\\Delta & 0 & 0 & 0 \\\\\n",
        "  6\\Delta & 1-14\\Delta & 8\\Delta & 0 & 0 \\\\\n",
        "  0 & 6\\Delta & 1-14\\Delta & 8\\Delta & 0 \\\\\n",
        "  0 & 0 & 6\\Delta & 1-14\\Delta & 8\\Delta \\\\\n",
        "  0 & 0 & 0 & 6\\Delta & 1-6\\Delta\n",
        "  \\end{bmatrix}"
      ],
      "metadata": {
        "id": "51shKs7sUonb"
      }
    },
    {
      "cell_type": "markdown",
      "source": [
        "La cual nos da el siguiente sistema de ecuaciones:\n",
        "\\begin{equation}\n",
        "\\begin{split}\n",
        "P_0 & = (1-8\\Delta t)P_0 &+ (8\\Delta t)P_1 \\\\\n",
        "P_1 & = (6\\Delta t)P_0 &+ (1-14\\Delta t)P_1 &+ (8\\Delta)P_2 \\\\\n",
        "P_2 & =  &+ (6\\Delta t)P_1 &+ (1-14\\Delta t)P_2 &+ (8\\Delta)P_3 \\\\\n",
        "P_3 & = &+ &+ (6\\Delta t)P_2 &+ (1-14\\Delta t)P_3 &+ (8\\Delta)P_4 \\\\\n",
        "P_4 & = &+ &+ &+ (6\\Delta t)P_3 &+ (1-6\\Delta t)P_4 \\\\\n",
        "1 & = P_0 &+ P_1 &+ P_2 &+ P_3 &+ P_4\n",
        "\\end{split}\n",
        "\\end{equation}"
      ],
      "metadata": {
        "id": "p412Oy9Xuzev"
      }
    },
    {
      "cell_type": "markdown",
      "source": [
        "De la primera ecuación: $P_0 = (1-8\\Delta t)P_0 + (6\\Delta t)P_1$ encontramos el valor de $P_1$ en términos de $P_0$:\n",
        "\n",
        "$$P_0=P_0-8ΔtP_0+6ΔtP_1$$\n",
        "$$8ΔtP_0=6ΔtP_1$$\n",
        "$$P_1=\\frac{8}{6}P_0$$\n",
        "de manera análoga se encuentran $P_2, P_3, P_4$\n",
        "$$P_2=\\left(\\frac{8}{6}\\right)^2P_0$$\n",
        "$$P_3=\\left(\\frac{8}{6}\\right)^3P_0$$\n",
        "$$P_4=\\left(\\frac{8}{6}\\right)^4P_0$$"
      ],
      "metadata": {
        "id": "6oggOaDtRa31"
      }
    },
    {
      "cell_type": "markdown",
      "source": [
        "Las probabilidades de estado estacionario $P_i$ representan el comportamiento probabilístico de cada estado del sistema a largo plazo por lo que $\\sum P_i=1$"
      ],
      "metadata": {
        "id": "zSO1UugVvOfs"
      }
    },
    {
      "cell_type": "markdown",
      "source": [
        "De lo anterior podemos entonces resolver para $P_0$:\n",
        "$$P_0+P_1+P_2+P_3+P_4=1$$\n",
        "$$P_0+\\left(\\frac{8}{6}\\right)P_0+\\left(\\frac{8}{6}\\right)^2P_0+\\left(\\frac{8}{6}\\right)^3P_0+\\left(\\frac{8}{6}\\right)^4P_0=1$$"
      ],
      "metadata": {
        "id": "wuB8cOX-we1k"
      }
    },
    {
      "cell_type": "code",
      "source": [
        "P_0=(1 + 8/6 + (8/6)**2 + (8/6)**3 + (8/6)**4)**(-1)\n",
        "P_1=P_0*(8/6)\n",
        "P_2=P_0*(8/6)**2\n",
        "P_3=P_0*(8/6)**3\n",
        "P_4=P_0*(8/6)**4\n",
        "print(\"P_0=\", P_0)\n",
        "print(\"P_1=\", P_1)\n",
        "print(\"P_2=\", P_2)\n",
        "print(\"P_3=\", P_3)\n",
        "print(\"P_4=\", P_4)"
      ],
      "metadata": {
        "colab": {
          "base_uri": "https://localhost:8080/"
        },
        "id": "LlvjO5jWxDhu",
        "outputId": "a90b857f-2e80-482e-baad-1dc6509a9fcc"
      },
      "execution_count": null,
      "outputs": [
        {
          "output_type": "stream",
          "name": "stdout",
          "text": [
            "P_0= 0.10371318822023048\n",
            "P_1= 0.1382842509603073\n",
            "P_2= 0.18437900128040974\n",
            "P_3= 0.2458386683738796\n",
            "P_4= 0.32778489116517284\n"
          ]
        }
      ]
    },
    {
      "cell_type": "markdown",
      "source": [
        "Ahora se puede calcular la tasa de entrada promedio. Este es el valor ponderado de las tasas de entrada al sistema y representan el número promedio de clientes que ingresan al sistema. A su vez, esta variable es la tasa de salida del sistema.\n",
        "\n",
        "$$\\bar{\\lambda}=\\sum\\lambda_nP_n$$"
      ],
      "metadata": {
        "id": "KJqst2IwylvD"
      }
    },
    {
      "cell_type": "code",
      "source": [
        "L = 8*(P_0)+8*(P_1)+8*(P_2)+8*(P_3)+0*(P_4)\n",
        "print(L)"
      ],
      "metadata": {
        "colab": {
          "base_uri": "https://localhost:8080/"
        },
        "id": "5RgN4kqQ0D4W",
        "outputId": "b393b697-d0db-4edf-e99d-6997b4e3a546"
      },
      "execution_count": null,
      "outputs": [
        {
          "output_type": "stream",
          "name": "stdout",
          "text": [
            "5.377720870678617\n"
          ]
        }
      ]
    },
    {
      "cell_type": "markdown",
      "source": [
        "Por lo tanto se puede esperar que entran al sistema 5.377 personas cada hora. Lo que es un valor menor a los datos del problema de 8 personas por hora, esto es porque, el 32% del tiempo la sala está llena y se pierden clientes."
      ],
      "metadata": {
        "id": "U26ETfUd07tX"
      }
    },
    {
      "cell_type": "markdown",
      "source": [
        "Ahora podemos calcular la utilización del servicio. Esto es, el porcentaje de tiempo que la recepcionista se encuentra atendiendo clientes.\n",
        "$$\\rho=\\frac{\\bar{λ}}{μ}=0.8963$$"
      ],
      "metadata": {
        "id": "ujm1Yvcs9izW"
      }
    },
    {
      "cell_type": "code",
      "source": [
        "R=(L)/(6)\n",
        "print(R)"
      ],
      "metadata": {
        "colab": {
          "base_uri": "https://localhost:8080/"
        },
        "id": "9eQ7ioFe1H31",
        "outputId": "eb7f4159-5f8c-43bb-ceb4-81b8a73dff37"
      },
      "execution_count": null,
      "outputs": [
        {
          "output_type": "stream",
          "name": "stdout",
          "text": [
            "0.8962868117797695\n"
          ]
        }
      ]
    },
    {
      "cell_type": "code",
      "source": [
        "L = 0*P_0+1*P_1+2*P_2+3*P_3+4*P_4\n",
        "print(L)\n",
        "Lq = 1*P_2+2*P_3+3*P_4\n",
        "print(Lq)"
      ],
      "metadata": {
        "colab": {
          "base_uri": "https://localhost:8080/"
        },
        "id": "V5L8XvStFWhs",
        "outputId": "b3046930-b140-4a50-bec9-3e5ff9cc426f"
      },
      "execution_count": null,
      "outputs": [
        {
          "output_type": "stream",
          "name": "stdout",
          "text": [
            "2.555697823303457\n",
            "1.6594110115236875\n"
          ]
        }
      ]
    },
    {
      "cell_type": "markdown",
      "source": [
        "Con esto sabemos que el 89.6% del tiempo el servidor se encuentra ocupado, tiene capacidad suficiente para atender a los 5.37 clientes por hora. Finalmente calculamos el promedio del número de clientes en la sala de espera incluyendo al que esta siendo atendido:\n",
        "$$L=\\sum nP_n=2.55$$\n",
        "y el promedio de clientes sólamente en la sala de espera es\n",
        "$$L=\\sum_{n=1}^{4} (n-1)P_n=1.66$$"
      ],
      "metadata": {
        "id": "HMDeKNE2DRY1"
      }
    }
  ]
}