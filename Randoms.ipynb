{
  "nbformat": 4,
  "nbformat_minor": 0,
  "metadata": {
    "colab": {
      "provenance": [],
      "authorship_tag": "ABX9TyPJ7n7+usNYkRw8Q247sgpg",
      "include_colab_link": true
    },
    "kernelspec": {
      "name": "python3",
      "display_name": "Python 3"
    },
    "language_info": {
      "name": "python"
    }
  },
  "cells": [
    {
      "cell_type": "markdown",
      "metadata": {
        "id": "view-in-github",
        "colab_type": "text"
      },
      "source": [
        "<a href=\"https://colab.research.google.com/github/ManjaxX/Temas2023/blob/main/Randoms.ipynb\" target=\"_parent\"><img src=\"https://colab.research.google.com/assets/colab-badge.svg\" alt=\"Open In Colab\"/></a>"
      ]
    },
    {
      "cell_type": "markdown",
      "source": [
        "Generadores congrenciales."
      ],
      "metadata": {
        "id": "OLh7CcSn26MB"
      }
    },
    {
      "cell_type": "code",
      "execution_count": null,
      "metadata": {
        "colab": {
          "base_uri": "https://localhost:8080/"
        },
        "id": "8O5GVV9PNdap",
        "outputId": "fe9dabf4-c1b4-4161-fd6b-87eb3c3d55e0"
      },
      "outputs": [
        {
          "output_type": "stream",
          "name": "stdout",
          "text": [
            "0.2857142857142857\n",
            "0.0\n",
            "0.5714285714285714\n",
            "0.42857142857142855\n",
            "0.7142857142857143\n",
            "0.14285714285714285\n",
            "0.2857142857142857\n",
            "0.0\n",
            "0.5714285714285714\n",
            "0.42857142857142855\n"
          ]
        }
      ],
      "source": [
        "\n",
        "i=1\n",
        "x=1\n",
        "while(i<11):\n",
        "  x=(5*x+11)%7\n",
        "  y=(x)/7\n",
        "  print(y)\n",
        "  i+=1"
      ]
    },
    {
      "cell_type": "markdown",
      "source": [
        "Generar variables normales. Método de las 12 uniformes"
      ],
      "metadata": {
        "id": "UVZ1VWfH3BWb"
      }
    },
    {
      "cell_type": "code",
      "source": [
        "import random\n",
        "x = []\n",
        "data = []\n",
        "i=1\n",
        "while(i<13):\n",
        "  x.append(random.random())\n",
        "  i+=1\n",
        "ans = sum(x)-6\n",
        "data.append(ans)\n",
        "print(data)"
      ],
      "metadata": {
        "colab": {
          "base_uri": "https://localhost:8080/"
        },
        "id": "6lribJDPOmxJ",
        "outputId": "5eb65419-be19-4653-aa01-422088acdca7"
      },
      "execution_count": null,
      "outputs": [
        {
          "output_type": "stream",
          "name": "stdout",
          "text": [
            "[-1.3524940649373862]\n"
          ]
        }
      ]
    },
    {
      "cell_type": "code",
      "source": [],
      "metadata": {
        "id": "yIb-VNR_Anl3"
      },
      "execution_count": null,
      "outputs": []
    }
  ]
}